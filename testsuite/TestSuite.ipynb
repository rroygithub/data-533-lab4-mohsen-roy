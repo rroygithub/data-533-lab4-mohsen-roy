{
 "cells": [
  {
   "cell_type": "code",
   "execution_count": 1,
   "metadata": {},
   "outputs": [
    {
     "name": "stderr",
     "output_type": "stream",
     "text": [
      "\n",
      "----------------------------------------------------------------------\n",
      "Ran 0 tests in 0.000s\n",
      "\n",
      "OK\n"
     ]
    },
    {
     "name": "stdout",
     "output_type": "stream",
     "text": [
      "testing enviroment\n",
      "testing enviroment\n",
      "setupClass\n",
      "setup...\n"
     ]
    },
    {
     "data": {
      "text/plain": [
       "<Figure size 640x480 with 1 Axes>"
      ]
     },
     "metadata": {},
     "output_type": "display_data"
    },
    {
     "data": {
      "text/plain": [
       "<Figure size 640x480 with 1 Axes>"
      ]
     },
     "metadata": {},
     "output_type": "display_data"
    },
    {
     "data": {
      "text/plain": [
       "<Figure size 640x480 with 1 Axes>"
      ]
     },
     "metadata": {},
     "output_type": "display_data"
    },
    {
     "data": {
      "text/plain": [
       "<Figure size 640x480 with 1 Axes>"
      ]
     },
     "metadata": {},
     "output_type": "display_data"
    },
    {
     "data": {
      "text/plain": [
       "<Figure size 640x480 with 1 Axes>"
      ]
     },
     "metadata": {},
     "output_type": "display_data"
    },
    {
     "name": "stderr",
     "output_type": "stream",
     "text": [
      "."
     ]
    },
    {
     "name": "stdout",
     "output_type": "stream",
     "text": [
      "tear down ...\n",
      "setup...\n"
     ]
    },
    {
     "data": {
      "text/plain": [
       "<Figure size 640x480 with 1 Axes>"
      ]
     },
     "metadata": {},
     "output_type": "display_data"
    },
    {
     "data": {
      "text/plain": [
       "<Figure size 640x480 with 1 Axes>"
      ]
     },
     "metadata": {},
     "output_type": "display_data"
    },
    {
     "data": {
      "text/plain": [
       "<Figure size 640x480 with 1 Axes>"
      ]
     },
     "metadata": {},
     "output_type": "display_data"
    },
    {
     "data": {
      "text/plain": [
       "<Figure size 640x480 with 1 Axes>"
      ]
     },
     "metadata": {},
     "output_type": "display_data"
    },
    {
     "data": {
      "text/plain": [
       "<Figure size 640x480 with 1 Axes>"
      ]
     },
     "metadata": {},
     "output_type": "display_data"
    },
    {
     "name": "stderr",
     "output_type": "stream",
     "text": [
      "......"
     ]
    },
    {
     "name": "stdout",
     "output_type": "stream",
     "text": [
      "tear down ...\n",
      "teardownClass\n",
      "setupClass\n",
      "Setup\n",
      "Teardown\n",
      "Setup\n",
      "Teardown\n",
      "teardownClass\n",
      "setupClass\n",
      "Name of exercise:  Nadi Shuddhi\n",
      "Time of exercise in minutes:  6\n",
      "Name of exercise:  Bhramari\n",
      "Time of exercise in minutes:  3\n",
      "Name of exercise:  Savasana\n",
      "Time of exercise in minutes:  4\n",
      "Setup\n",
      "Name of exercise:  Savasana\n",
      "Time of exercise in minutes:  4\n",
      "Name of exercise:  Surya Namaskar\n",
      "Time of exercise in minutes:  15\n",
      "Name of exercise:  Halasana\n",
      "Time of exercise in minutes:  2\n",
      "Name of exercise:  Pavanmuktasana\n",
      "Time of exercise in minutes:  3\n",
      "Name of exercise:  Tadasana\n",
      "Time of exercise in minutes:  2\n",
      "Teardown\n",
      "teardownClass\n",
      "setupClass\n",
      "setup...\n",
      "tear down ...\n",
      "setup...\n",
      "tear down ...\n",
      "teardownClass\n",
      "<unittest.runner.TextTestResult run=7 errors=0 failures=0>\n"
     ]
    },
    {
     "name": "stderr",
     "output_type": "stream",
     "text": [
      "\n",
      "----------------------------------------------------------------------\n",
      "Ran 7 tests in 0.461s\n",
      "\n",
      "OK\n"
     ]
    }
   ],
   "source": [
    "import unittest\n",
    "\n",
    "from tests.YogaTestPatient import TestPatient \n",
    "from tests.YogaTestExercise import TestExercise \n",
    "from tests.YogaTestFileio import TestFileio\n",
    "from tests.YogaTestPlot import TestPlot\n",
    "\n",
    "def my_suite():\n",
    "    suite = unittest.TestSuite()\n",
    "    result = unittest.TestResult()\n",
    "    suite.addTest(unittest.makeSuite(TestPlot)) \n",
    "    suite.addTest(unittest.makeSuite(TestPatient))\n",
    "    suite.addTest(unittest.makeSuite(TestExercise)) \n",
    "    suite.addTest(unittest.makeSuite(TestFileio)) \n",
    "    runner = unittest.TextTestRunner() \n",
    "    print(runner.run(suite))\n",
    "my_suite()"
   ]
  },
  {
   "cell_type": "code",
   "execution_count": null,
   "metadata": {},
   "outputs": [],
   "source": []
  },
  {
   "cell_type": "code",
   "execution_count": null,
   "metadata": {},
   "outputs": [],
   "source": []
  }
 ],
 "metadata": {
  "kernelspec": {
   "display_name": "Python 3",
   "language": "python",
   "name": "python3"
  },
  "language_info": {
   "codemirror_mode": {
    "name": "ipython",
    "version": 3
   },
   "file_extension": ".py",
   "mimetype": "text/x-python",
   "name": "python",
   "nbconvert_exporter": "python",
   "pygments_lexer": "ipython3",
   "version": "3.6.5"
  }
 },
 "nbformat": 4,
 "nbformat_minor": 2
}
