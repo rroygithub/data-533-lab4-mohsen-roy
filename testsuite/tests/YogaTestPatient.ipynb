{
 "cells": [
  {
   "cell_type": "code",
   "execution_count": 31,
   "metadata": {},
   "outputs": [
    {
     "name": "stderr",
     "output_type": "stream",
     "text": [
      "test_setfName (__main__.TestPatient) ... "
     ]
    },
    {
     "name": "stdout",
     "output_type": "stream",
     "text": [
      "setupClass\n",
      "Patient name: Rajeev Ranjan Roy \n",
      "Revenue:  0\n",
      "Patient name: Mohsen  Zardadi \n",
      "Revenue:  0\n",
      "Setup\n",
      "Teardown\n",
      "teardownClass\n"
     ]
    },
    {
     "name": "stderr",
     "output_type": "stream",
     "text": [
      "ok\n",
      "\n",
      "----------------------------------------------------------------------\n",
      "Ran 1 test in 0.007s\n",
      "\n",
      "OK\n"
     ]
    },
    {
     "data": {
      "text/plain": [
       "<unittest.main.TestProgram at 0x10fbcb240>"
      ]
     },
     "execution_count": 31,
     "metadata": {},
     "output_type": "execute_result"
    }
   ],
   "source": [
    "import unittest\n",
    "from yoga.patient import patient\n",
    "\n",
    "class TestPatient(unittest.TestCase):\n",
    "    @classmethod\n",
    "    def setUpClass(cls):\n",
    "        print('setupClass')\n",
    "        cls.p1=patient.Patient(1, 'pass1', 'Rajeev', 'Ranjan', 'Roy')                    \n",
    "        cls.p1.display()\n",
    "        cls.p2=patient.Patient(2, 'pass2', 'Mohsen', '', 'Zardadi')\n",
    "        cls.p2.display()\n",
    "    @classmethod\n",
    "    def tearDownClass(cls):\n",
    "        print('teardownClass')\n",
    "        del cls.p1\n",
    "        del cls.p2\n",
    "    def setUp(self):\n",
    "        self.p3=patient.Patient(3, 'pass3', 'Mohan', 'Ramesh','Agashe')\n",
    "        self.p4=patient.Patient(4, 'pass4', 'Ramesh', 'Mohan','Agashe')\n",
    "        self.p5=patient.Patient(5, 'pass5', 'Amit', 'Ramlal','Ganeriwalla')\n",
    "        self.p6=patient.Patient(6, 'pass6', 'Shree', 'Narayan','Roy')\n",
    "        self.p7=patient.Patient(7, 'pass7', 'Shailesh', 'Nandan','Singh')\n",
    "        print('Setup')\n",
    "    def tearDown(self):\n",
    "        print('Teardown')\n",
    "        del self.p3\n",
    "        del self.p4\n",
    "        del self.p5\n",
    "        del self.p6\n",
    "        del self.p7\n",
    "    def test_setfName(self):\n",
    "        self.p3.setfName('Kareem')\n",
    "        self.p4.setfName('Ram')\n",
    "        self.p5.setfName('Mohan')\n",
    "        self.p6.setfName('Amit')\n",
    "        self.p7.setfName('Shree')\n",
    "        self.assertEqual(self.p3._Patient__fName,'Kareem')\n",
    "        self.assertEqual(self.p4._Patient__fName,'Ram')\n",
    "        self.assertEqual(self.p5._Patient__fName,'Mohan')\n",
    "        self.assertEqual(self.p6._Patient__fName,'Amit')\n",
    "        self.assertEqual(self.p7._Patient__fName,'Shree')\n",
    "\n",
    "#unittest.main(argv=[''], verbosity=2, exit=False)\n",
    "              "
   ]
  },
  {
   "cell_type": "code",
   "execution_count": null,
   "metadata": {},
   "outputs": [],
   "source": []
  }
 ],
 "metadata": {
  "kernelspec": {
   "display_name": "Python 3",
   "language": "python",
   "name": "python3"
  },
  "language_info": {
   "codemirror_mode": {
    "name": "ipython",
    "version": 3
   },
   "file_extension": ".py",
   "mimetype": "text/x-python",
   "name": "python",
   "nbconvert_exporter": "python",
   "pygments_lexer": "ipython3",
   "version": "3.6.5"
  }
 },
 "nbformat": 4,
 "nbformat_minor": 2
}
