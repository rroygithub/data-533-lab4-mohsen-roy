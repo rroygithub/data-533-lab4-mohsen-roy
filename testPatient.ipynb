{
 "cells": [
  {
   "cell_type": "code",
   "execution_count": 1,
   "metadata": {},
   "outputs": [
    {
     "name": "stdout",
     "output_type": "stream",
     "text": [
      "Rajeev\n",
      "\n",
      "Roy\n",
      "100\n",
      "rroy\n",
      "pass\n",
      "Mr.\n",
      "Amit\n",
      "Rajesh\n",
      "Kumar\n",
      "Patient name: Mr. Amit Rajesh Kumar\n",
      "Revenue:  100\n",
      "Patient name: Mr. Mohsen  Zardadi\n",
      "Revenue:  200\n",
      "[<yoga.patient.patient.Patient object at 0x10e58eb38>, <yoga.patient.patient.Patient object at 0x10e58e978>]\n",
      "Name of exercise:  Surya Namaskar\n",
      "Time of exercise in minutes:  30\n",
      "Name of exercise:  Savasana\n",
      "Time of exercise in minutes:  10\n"
     ]
    },
    {
     "data": {
      "text/plain": [
       "0"
      ]
     },
     "execution_count": 1,
     "metadata": {},
     "output_type": "execute_result"
    }
   ],
   "source": [
    "#Import modules\n",
    "from yoga.patient import patient\n",
    "from yoga.patient import exercise\n",
    "\n",
    "#Test the Patient module\n",
    "#create new patients\n",
    "pat1=patient.Patient(\"rroy\",\"pass\",\"Mr.\",\"Rajeev\",\"\",\"Roy\")\n",
    "pat2=patient.Patient(\"mzardadi\", \"pass\", \"Mr.\", \"Mohsen\", \"\",\"Zardadi\")\n",
    "\n",
    "#add some revenue\n",
    "pat1.addRev(100)\n",
    "pat2.addRev(200)\n",
    "\n",
    "#check the get methods\n",
    "print(pat1.getfName())\n",
    "print(pat1.getmName())\n",
    "print(pat1.getlName())\n",
    "print(pat1.getRev())\n",
    "#check other attributes\n",
    "print(pat1.id)\n",
    "print(pat1.password)\n",
    "print(pat1.salution)\n",
    "\n",
    "#check set methods\n",
    "pat1.setfName(\"Amit\")\n",
    "pat1.setmName(\"Rajesh\")\n",
    "pat1.setlName(\"Kumar\")\n",
    "print(pat1.getfName())\n",
    "print(pat1.getmName())\n",
    "print(pat1.getlName())\n",
    "\n",
    "#check display method\n",
    "pat1.display()\n",
    "pat2.display()\n",
    "\n",
    "#check registery\n",
    "print(patient.Patient._registery)\n",
    "\n",
    "#Test the exercise module\n",
    "#create new exercises\n",
    "ex1=exercise.Exercise(\"Surya Namaskar\", 30)\n",
    "ex2=exercise.Exercise(\"Savasana\", 10)\n",
    "\n",
    "#display exercises\n",
    "ex1.display()\n",
    "ex2.display()"
   ]
  },
  {
   "cell_type": "code",
   "execution_count": null,
   "metadata": {},
   "outputs": [],
   "source": []
  }
 ],
 "metadata": {
  "kernelspec": {
   "display_name": "Python 3",
   "language": "python",
   "name": "python3"
  },
  "language_info": {
   "codemirror_mode": {
    "name": "ipython",
    "version": 3
   },
   "file_extension": ".py",
   "mimetype": "text/x-python",
   "name": "python",
   "nbconvert_exporter": "python",
   "pygments_lexer": "ipython3",
   "version": "3.6.5"
  }
 },
 "nbformat": 4,
 "nbformat_minor": 2
}
