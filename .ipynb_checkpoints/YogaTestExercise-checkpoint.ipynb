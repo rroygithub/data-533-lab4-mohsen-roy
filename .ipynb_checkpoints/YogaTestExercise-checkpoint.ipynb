{
 "cells": [
  {
   "cell_type": "code",
   "execution_count": 12,
   "metadata": {},
   "outputs": [
    {
     "name": "stderr",
     "output_type": "stream",
     "text": [
      "test_display (__main__.TestExercise) ... "
     ]
    },
    {
     "name": "stdout",
     "output_type": "stream",
     "text": [
      "setupClass\n",
      "Name of exercise:  Nadi Shuddhi\n",
      "Time of exercise in minutes:  6\n",
      "Name of exercise:  Bhramari\n",
      "Time of exercise in minutes:  3\n",
      "Name of exercise:  Savasana\n",
      "Time of exercise in minutes:  4\n",
      "Setup\n",
      "Name of exercise:  Savasana\n",
      "Time of exercise in minutes:  4\n",
      "Name of exercise:  Surya Namaskar\n",
      "Time of exercise in minutes:  15\n",
      "Name of exercise:  Halasana\n",
      "Time of exercise in minutes:  2\n",
      "Name of exercise:  Pavanmuktasana\n",
      "Time of exercise in minutes:  3\n",
      "Name of exercise:  Tadasana\n",
      "Time of exercise in minutes:  2\n",
      "Teardown\n",
      "teardownClass\n"
     ]
    },
    {
     "name": "stderr",
     "output_type": "stream",
     "text": [
      "ok\n",
      "\n",
      "----------------------------------------------------------------------\n",
      "Ran 1 test in 0.003s\n",
      "\n",
      "OK\n"
     ]
    },
    {
     "data": {
      "text/plain": [
       "<unittest.main.TestProgram at 0x10b3fcd68>"
      ]
     },
     "execution_count": 12,
     "metadata": {},
     "output_type": "execute_result"
    }
   ],
   "source": [
    "import unittest\n",
    "import pytest\n",
    "from yoga.patient import exercise\n",
    "\n",
    "class TestExercise(unittest.TestCase):\n",
    "    @classmethod\n",
    "    def setUpClass(cls):\n",
    "        print('setupClass')\n",
    "        cls.e1=exercise.Exercise('Nadi Shuddhi', 6)                    \n",
    "        cls.e1.display()\n",
    "        cls.e2=exercise.Exercise('Bhramari', 3)                    \n",
    "        cls.e2.display()\n",
    "    @classmethod\n",
    "    def tearDownClass(cls):\n",
    "        print('teardownClass')\n",
    "        del cls.e1\n",
    "        del cls.e2\n",
    "    def setUp(self):\n",
    "        self.e3=exercise.Exercise('Savasana', 4) \n",
    "        self.e4=exercise.Exercise('Surya Namaskar', 15)\n",
    "        self.e5=exercise.Exercise('Halasana', 2)\n",
    "        self.e6=exercise.Exercise('Pavanmuktasana', 3) \n",
    "        self.e7=exercise.Exercise('Tadasana', 2) \n",
    "        self.e3.display()\n",
    "        print('Setup')\n",
    "    def tearDown(self):\n",
    "        print('Teardown')\n",
    "        del self.e3\n",
    "        del self.e4\n",
    "        del self.e5\n",
    "        del self.e6\n",
    "        del self.e7\n",
    "    def test_display(self):\n",
    "        rtn1=self.e3.display()\n",
    "        self.assertEqual(rtn1,0)\n",
    "        rtn1=self.e4.display()\n",
    "        self.assertEqual(rtn1,0)\n",
    "        rtn1=self.e5.display()\n",
    "        self.assertEqual(rtn1,0)\n",
    "        rtn1=self.e6.display()\n",
    "        self.assertEqual(rtn1,0)\n",
    "        rtn1=self.e7.display()\n",
    "        self.assertEqual(rtn1,0)\n",
    "#unittest.main(argv=[''], verbosity=2, exit=False)"
   ]
  },
  {
   "cell_type": "code",
   "execution_count": null,
   "metadata": {},
   "outputs": [],
   "source": []
  }
 ],
 "metadata": {
  "kernelspec": {
   "display_name": "Python 3",
   "language": "python",
   "name": "python3"
  },
  "language_info": {
   "codemirror_mode": {
    "name": "ipython",
    "version": 3
   },
   "file_extension": ".py",
   "mimetype": "text/x-python",
   "name": "python",
   "nbconvert_exporter": "python",
   "pygments_lexer": "ipython3",
   "version": "3.6.5"
  }
 },
 "nbformat": 4,
 "nbformat_minor": 2
}
